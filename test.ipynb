{
 "cells": [
  {
   "cell_type": "markdown",
   "metadata": {},
   "source": [
    "### Intro"
   ]
  },
  {
   "cell_type": "code",
   "execution_count": 29,
   "metadata": {},
   "outputs": [],
   "source": [
    "import matplotlib.pyplot as plt\n",
    "import numpy as np\n",
    "from PIL.Image import open\n",
    "import PIL\n",
    "from IPython import display\n",
    "from time import time, sleep\n",
    "\n",
    "import os\n",
    "from glob import glob\n",
    "from Img2Graph import *\n",
    "from main import *"
   ]
  },
  {
   "cell_type": "code",
   "execution_count": 26,
   "metadata": {},
   "outputs": [],
   "source": [
    "def segment_plot_color(G, img, img_seed, s=2):\n",
    "    # initialize: S = {s}, T = {t}, A = {s, t}, O = ∅\n",
    "    A = ['S','T']\n",
    "    i = 0\n",
    "    t = time()\n",
    "    while True:\n",
    "        if time() - t > s or i == 0:\n",
    "            plt.figure(figsize=(15,7))\n",
    "            display.clear_output(wait=True)\n",
    "            display.display(plt.gcf())\n",
    "            plt.subplot(131)\n",
    "            plt.imshow(img)\n",
    "            plt.subplot(132)\n",
    "            plt.imshow(graph2img(G, *img.shape[:2]), cmap='seismic')\n",
    "            plt.subplot(133)\n",
    "            plt.imshow(img_seed)\n",
    "            plt.show()\n",
    "            t = time()\n",
    "            i = 1\n",
    "        # grow S or T to find an augmenting path P from s to t\n",
    "        P = grow(G, A)\n",
    "        # if P = ∅ terminate\n",
    "        if not P:\n",
    "            break\n",
    "        # augment on P\n",
    "        Orphans = augment(G, P)\n",
    "        # adopt orphans\n",
    "        A = adopt(G, Orphans, A)\n",
    "    \n",
    "    plt.figure(figsize=(15,7))\n",
    "    display.clear_output(wait=True)\n",
    "    display.display(plt.gcf())\n",
    "    plt.subplot(131)\n",
    "    plt.imshow(img)\n",
    "    plt.subplot(132)\n",
    "    plt.imshow(graph2img(G, *img.shape[:2]), cmap='seismic')\n",
    "    plt.subplot(133)\n",
    "    plt.imshow(img_seed)\n",
    "    plt.show()\n",
    "\n",
    "    # end while\n",
    "    return G\n",
    "\n",
    "\n",
    "def segment_plot(G, img, img_seed, s=2):\n",
    "    # initialize: S = {s}, T = {t}, A = {s, t}, O = ∅\n",
    "    A = ['S','T']\n",
    "    i = 0\n",
    "    t = time()\n",
    "    while True:\n",
    "        if time() - t > s or i == 0:\n",
    "            plt.figure(figsize=(15,7))\n",
    "            display.clear_output(wait=True)\n",
    "            display.display(plt.gcf())\n",
    "            plt.subplot(131)\n",
    "            plt.imshow(img, cmap='gray')\n",
    "            plt.subplot(132)\n",
    "            plt.imshow(graph2img(G, *img.shape), cmap='seismic')\n",
    "            plt.subplot(133)\n",
    "            plt.imshow(img_seed, cmap='gray')\n",
    "            plt.show()\n",
    "            t = time()\n",
    "            i = 1\n",
    "            sleep(3)\n",
    "\n",
    "        # grow S or T to find an augmenting path P from s to t\n",
    "        P = grow(G, A)\n",
    "        # if P = ∅ terminate\n",
    "        if not P:\n",
    "            break\n",
    "        # augment on P\n",
    "        Orphans = augment(G, P)\n",
    "        # adopt orphans\n",
    "        A = adopt(G, Orphans, A)\n",
    "    \n",
    "    plt.figure(figsize=(15,7))\n",
    "    display.clear_output(wait=True)\n",
    "    display.display(plt.gcf())\n",
    "    plt.subplot(131)\n",
    "    plt.imshow(img, cmap='gray')\n",
    "    plt.subplot(132)\n",
    "    plt.imshow(graph2img(G, *img.shape), cmap='seismic')\n",
    "    plt.subplot(133)\n",
    "    plt.imshow(img_seed, cmap='gray')\n",
    "    plt.show()\n",
    "\n",
    "    # end while\n",
    "    return G\n"
   ]
  },
  {
   "cell_type": "markdown",
   "metadata": {},
   "source": [
    "### Dog test"
   ]
  },
  {
   "cell_type": "code",
   "execution_count": 27,
   "metadata": {},
   "outputs": [
    {
     "data": {
      "image/png": "[encoded data removed]",
      "text/plain": [
       "<Figure size 432x288 with 1 Axes>"
      ]
     },
     "metadata": {
      "needs_background": "light"
     },
     "output_type": "display_data"
    }
   ],
   "source": [
    "W, H = 50,50\n",
    "img = np.array(open('images/dog_small.jpg').convert('L').resize((W, H))) / 255\n",
    "img_painted = np.array(open('images/dog_small_ST.jpg').convert('RGB').resize((W, H)))\n",
    "\n",
    "priors = initialize_priors(img_painted)\n",
    "G, Rp = image2graph(img, *priors, prior_as_index=True)\n",
    "\n",
    "N = 1000\n",
    "X = np.linspace(0, 1 + 1/N, N)\n",
    "plt.title(\"Regional term\")\n",
    "plt.plot(X, Rp[\"obj\"](X), label='PDF O')\n",
    "plt.plot(X, Rp[\"bkg\"](X), label='PDF B')\n",
    "plt.legend()\n",
    "plt.show()"
   ]
  },
  {
   "cell_type": "code",
   "execution_count": 28,
   "metadata": {},
   "outputs": [
    {
     "data": {
      "text/plain": [
       "<Figure size 1080x504 with 0 Axes>"
      ]
     },
     "metadata": {},
     "output_type": "display_data"
    },
    {
     "data": {
      "image/png": "[encoded data removed]",
      "text/plain": [
       "<Figure size 1080x504 with 3 Axes>"
      ]
     },
     "metadata": {
      "needs_background": "light"
     },
     "output_type": "display_data"
    },
    {
     "ename": "AttributeError",
     "evalue": "'builtin_function_or_method' object has no attribute 'sleep'",
     "output_type": "error",
     "traceback": [
      "\u001b[1;31m---------------------------------------------------------------------------\u001b[0m",
      "\u001b[1;31mAttributeError\u001b[0m                            Traceback (most recent call last)",
      "Input \u001b[1;32mIn [28]\u001b[0m, in \u001b[0;36m<module>\u001b[1;34m\u001b[0m\n\u001b[1;32m----> 1\u001b[0m segment_plot(G, img, img_painted, s\u001b[39m=\u001b[39;49m\u001b[39m.5\u001b[39;49m)\n",
      "\u001b[1;32md:\\Projects\\Graph Cuts\\compi-graph-cut\\test.ipynb Cell 6'\u001b[0m in \u001b[0;36msegment_plot\u001b[1;34m(G, img, img_seed, s)\u001b[0m\n\u001b[0;32m     <a href='vscode-notebook-cell:/d%3A/Projects/Graph%20Cuts/compi-graph-cut/test.ipynb#ch0000005?line=61'>62</a>\u001b[0m     t \u001b[39m=\u001b[39m time()\n\u001b[0;32m     <a href='vscode-notebook-cell:/d%3A/Projects/Graph%20Cuts/compi-graph-cut/test.ipynb#ch0000005?line=62'>63</a>\u001b[0m     i \u001b[39m=\u001b[39m \u001b[39m1\u001b[39m\n\u001b[1;32m---> <a href='vscode-notebook-cell:/d%3A/Projects/Graph%20Cuts/compi-graph-cut/test.ipynb#ch0000005?line=63'>64</a>\u001b[0m     time\u001b[39m.\u001b[39;49msleep(\u001b[39m3\u001b[39m)\n\u001b[0;32m     <a href='vscode-notebook-cell:/d%3A/Projects/Graph%20Cuts/compi-graph-cut/test.ipynb#ch0000005?line=65'>66</a>\u001b[0m \u001b[39m# grow S or T to find an augmenting path P from s to t\u001b[39;00m\n\u001b[0;32m     <a href='vscode-notebook-cell:/d%3A/Projects/Graph%20Cuts/compi-graph-cut/test.ipynb#ch0000005?line=66'>67</a>\u001b[0m P \u001b[39m=\u001b[39m grow(G, A)\n",
      "\u001b[1;31mAttributeError\u001b[0m: 'builtin_function_or_method' object has no attribute 'sleep'"
     ]
    }
   ],
   "source": [
    "segment_plot(G, img, img_painted, s=.5)"
   ]
  },
  {
   "cell_type": "markdown",
   "metadata": {},
   "source": [
    "### Experiment data"
   ]
  },
  {
   "cell_type": "markdown",
   "metadata": {},
   "source": [
    "#### Grayscale"
   ]
  },
  {
   "cell_type": "code",
   "execution_count": 31,
   "metadata": {},
   "outputs": [],
   "source": [
    "paths = [path for path in glob(os.path.join(\"dataset\",'images',\"*.jpg\"))]\n",
    "images = [open(path).convert('L') for path in paths]\n",
    "groundtruths = [open(path.replace('.jpg', '.png').replace('images','images-gt')).convert('L') for path in paths]\n",
    "labels = [open(path.replace('.jpg', '-anno.png').replace('images','images-labels')) for path in paths]"
   ]
  },
  {
   "cell_type": "code",
   "execution_count": null,
   "metadata": {},
   "outputs": [],
   "source": [
    "idx = 7\n",
    "n, p = images[0].size\n",
    "W, H = n//4, p//4\n",
    "img = np.array(images[idx].resize((W,H))) / 255\n",
    "gt = np.array(groundtruths[idx].resize((W,H), resample=PIL.Image.NEAREST))\n",
    "label = np.array(labels[idx].resize((W,H), resample=PIL.Image.NEAREST))\n",
    "\n",
    "\n",
    "priors = (label==1, label==2)\n",
    "nbins = 30\n",
    "G, probs = image2graph(img, *priors, nbins=nbins, alpha=100, λ=0.7, sig=30)\n",
    "\n",
    "X = np.linspace(0, 1 + 1/(nbins+1), nbins+1)\n",
    "plt.title(\"Priors distribution\")\n",
    "plt.plot(X, probs[\"obj\"](X), label='PDF O')\n",
    "plt.plot(X, probs[\"bkg\"](X), label='PDF B')\n",
    "plt.legend()\n",
    "plt.show()"
   ]
  },
  {
   "cell_type": "code",
   "execution_count": null,
   "metadata": {},
   "outputs": [],
   "source": [
    "plt.imshow(gt)"
   ]
  },
  {
   "cell_type": "code",
   "execution_count": null,
   "metadata": {},
   "outputs": [],
   "source": [
    "np.histogram([[1,2],[3,2],[4,1]])"
   ]
  },
  {
   "cell_type": "code",
   "execution_count": null,
   "metadata": {},
   "outputs": [],
   "source": [
    "segment_plot(G, img, label, s=5)"
   ]
  },
  {
   "cell_type": "code",
   "execution_count": null,
   "metadata": {},
   "outputs": [],
   "source": [
    "segment_plot(G, img, label, s=5)"
   ]
  },
  {
   "cell_type": "markdown",
   "metadata": {},
   "source": [
    "#### Color"
   ]
  },
  {
   "cell_type": "code",
   "execution_count": 3,
   "metadata": {},
   "outputs": [],
   "source": [
    "paths = [path for path in glob(os.path.join(\"dataset\",'images',\"*.jpg\"))]\n",
    "images = [open(path) for path in paths]\n",
    "groundtruths = [open(path.replace('.jpg', '.png').replace('images','images-gt')).convert('L') for path in paths]\n",
    "labels = [open(path.replace('.jpg', '-anno.png').replace('images','images-labels')) for path in paths]"
   ]
  },
  {
   "cell_type": "code",
   "execution_count": 4,
   "metadata": {},
   "outputs": [],
   "source": [
    "idx = 50\n",
    "n, p = images[0].size\n",
    "W, H = n//6, p//6\n",
    "img = np.array(images[idx].resize((W,H))) / 255\n",
    "gt = np.array(groundtruths[idx].resize((W,H), resample=PIL.Image.NEAREST))\n",
    "label = np.array(labels[idx].resize((W,H), resample=PIL.Image.NEAREST))\n",
    "\n",
    "\n",
    "priors = (label==1, label==2)\n",
    "nbins = 30\n",
    "G, probs = image2graph(img, *priors, nbins=nbins, alpha=1, λ=10, sig=1)\n",
    "\n",
    "# X = np.linspace(0, 1 + 1/(nbins+1), nbins+1)\n",
    "# plt.title(\"Priors distribution\")\n",
    "# plt.plot(X, probs[\"obj\"](X), label='PDF O')\n",
    "# plt.plot(X, probs[\"bkg\"](X), label='PDF B')\n",
    "# plt.legend()\n",
    "# plt.show()"
   ]
  },
  {
   "cell_type": "code",
   "execution_count": 21,
   "metadata": {},
   "outputs": [],
   "source": [
    "\n",
    "O_vals, B_vals = img[label==1], img[label==2]\n",
    "\n",
    "# Add data all along to prevent probability of 0\n",
    "data_O = np.row_stack((O_vals[:,0], O_vals[:,1], O_vals[:,2]))\n",
    "data_B = np.row_stack((B_vals[:,0], B_vals[:,1], B_vals[:,2]))\n",
    "\n",
    "kde_O = gaussian_kde(data_O)\n",
    "kde_B = gaussian_kde(data_B)\n",
    "pdf_O = kde_O.logpdf\n",
    "pdf_B = kde_B.logpdf\n",
    "b = lambda x : - gaussian_kde(O_vals.T).logpdf(x)"
   ]
  },
  {
   "cell_type": "code",
   "execution_count": 36,
   "metadata": {},
   "outputs": [
    {
     "data": {
      "text/plain": [
       "array([-44.46500734, -38.00743457, -25.04606393])"
      ]
     },
     "execution_count": 36,
     "metadata": {},
     "output_type": "execute_result"
    }
   ],
   "source": [
    "pdf_O(np.array([[0.1,0.4,0.3], [1,1,1], [0,0,0]]).T)"
   ]
  },
  {
   "cell_type": "code",
   "execution_count": 17,
   "metadata": {},
   "outputs": [],
   "source": [
    "a = []\n",
    "for x in np.linspace(0,1,100):\n",
    "    for y in np.linspace(0,1,100):\n",
    "        for z in np.linspace(0,1,100):\n",
    "            a.append(pdf_O((x,y,z))[0])"
   ]
  },
  {
   "cell_type": "code",
   "execution_count": 15,
   "metadata": {},
   "outputs": [
    {
     "data": {
      "text/plain": [
       "-1333.8788185079165"
      ]
     },
     "execution_count": 15,
     "metadata": {},
     "output_type": "execute_result"
    }
   ],
   "source": [
    "a = np.array(a)\n",
    "\n",
    "a.min()"
   ]
  },
  {
   "cell_type": "code",
   "execution_count": 17,
   "metadata": {},
   "outputs": [
    {
     "data": {
      "text/plain": [
       "<Figure size 1080x504 with 0 Axes>"
      ]
     },
     "metadata": {},
     "output_type": "display_data"
    },
    {
     "data": {
      "image/png": "[encoded data removed]",
      "text/plain": [
       "<Figure size 1080x504 with 3 Axes>"
      ]
     },
     "metadata": {
      "needs_background": "light"
     },
     "output_type": "display_data"
    },
    {
     "data": {
      "text/plain": [
       "<networkx.classes.graph.Graph at 0x1f0e0b5dc10>"
      ]
     },
     "execution_count": 17,
     "metadata": {},
     "output_type": "execute_result"
    }
   ],
   "source": [
    "segment_plot_color(G, img, label, s=5)"
   ]
  }
 ],
 "metadata": {
  "interpreter": {
   "hash": "c9297b02fdaf5c0ad459872b73c0cfaecfa59fcd1d874f3d76bff3514e920718"
  },
  "kernelspec": {
   "display_name": "Python 3.8.0 ('maps')",
   "language": "python",
   "name": "python3"
  },
  "language_info": {
   "codemirror_mode": {
    "name": "ipython",
    "version": 3
   },
   "file_extension": ".py",
   "mimetype": "text/x-python",
   "name": "python",
   "nbconvert_exporter": "python",
   "pygments_lexer": "ipython3",
   "version": "3.8.0"
  },
  "orig_nbformat": 4
 },
 "nbformat": 4,
 "nbformat_minor": 2
}
