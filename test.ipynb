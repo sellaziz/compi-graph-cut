{
 "cells": [
  {
   "cell_type": "markdown",
   "metadata": {},
   "source": [
    "### Intro"
   ]
  },
  {
   "cell_type": "code",
   "execution_count": 30,
   "metadata": {},
   "outputs": [],
   "source": [
    "import matplotlib.pyplot as plt\n",
    "import numpy as np\n",
    "from PIL.Image import open\n",
    "import PIL\n",
    "from IPython import display\n",
    "from time import time\n",
    "\n",
    "import os\n",
    "from glob import glob\n",
    "from Img2Graph import *\n",
    "from main import *"
   ]
  },
  {
   "cell_type": "code",
   "execution_count": null,
   "metadata": {},
   "outputs": [],
   "source": [
    "def segment_plot(G, img, img_seed, s=2):\n",
    "    # initialize: S = {s}, T = {t}, A = {s, t}, O = ∅\n",
    "    A = ['S','T']\n",
    "    i = 0\n",
    "    t = time()\n",
    "    while True:\n",
    "        if time() - t > s or i == 0:\n",
    "            plt.figure(figsize=(15,7))\n",
    "            display.clear_output(wait=True)\n",
    "            display.display(plt.gcf())\n",
    "            plt.subplot(131)\n",
    "            plt.imshow(img, cmap='gray')\n",
    "            plt.subplot(132)\n",
    "            plt.imshow(graph2img(G, *img.shape), cmap='seismic')\n",
    "            plt.subplot(133)\n",
    "            plt.imshow(img_seed, cmap='gray')\n",
    "            plt.show()\n",
    "            t = time()\n",
    "            i = 1\n",
    "        # grow S or T to find an augmenting path P from s to t\n",
    "        P = grow(G, A)\n",
    "        # if P = ∅ terminate\n",
    "        if not P:\n",
    "            break\n",
    "        # augment on P\n",
    "        Orphans = augment(G, P)\n",
    "        # adopt orphans\n",
    "        A = adopt(G, Orphans, A)\n",
    "    \n",
    "    plt.figure(figsize=(15,7))\n",
    "    display.clear_output(wait=True)\n",
    "    display.display(plt.gcf())\n",
    "    plt.subplot(131)\n",
    "    plt.imshow(img, cmap='gray')\n",
    "    plt.subplot(132)\n",
    "    plt.imshow(graph2img(G, *img.shape), cmap='seismic')\n",
    "    plt.subplot(133)\n",
    "    plt.imshow(img_seed, cmap='gray')\n",
    "    plt.show()\n",
    "\n",
    "    # end while\n",
    "    return G\n"
   ]
  },
  {
   "cell_type": "markdown",
   "metadata": {},
   "source": []
  },
  {
   "cell_type": "markdown",
   "metadata": {},
   "source": [
    "### Dog test"
   ]
  },
  {
   "cell_type": "code",
   "execution_count": null,
   "metadata": {},
   "outputs": [],
   "source": [
    "W, H = 50,50\n",
    "img = np.array(open('images/dog_small.jpg').convert('L').resize((W, H))) / 255\n",
    "img_painted = np.array(open('images/dog_small_ST.jpg').convert('RGB').resize((W, H)))\n",
    "\n",
    "priors = initialize_priors(img_painted)\n",
    "nbins = 20\n",
    "G, probs = image2graph(img, *priors, nbins=nbins, prior_as_index=True)\n",
    "\n",
    "X = np.linspace(0, 1 + 1/(nbins+1), 100)\n",
    "plt.title(\"Priors distribution\")\n",
    "plt.plot(X, probs[\"obj\"](X), label='PDF O')\n",
    "plt.plot(X, probs[\"bkg\"](X), label='PDF B')\n",
    "plt.legend()\n",
    "plt.show()"
   ]
  },
  {
   "cell_type": "code",
   "execution_count": null,
   "metadata": {},
   "outputs": [],
   "source": [
    "segment_plot(G, img, img_painted, s=1)"
   ]
  },
  {
   "cell_type": "markdown",
   "metadata": {},
   "source": [
    "### Experiment data"
   ]
  },
  {
   "cell_type": "code",
   "execution_count": 31,
   "metadata": {},
   "outputs": [],
   "source": [
    "paths = [path for path in glob(os.path.join(\"dataset\",'images',\"*.jpg\"))]\n",
    "images = [open(path).convert('L') for path in paths]\n",
    "groundtruths = [open(path.replace('.jpg', '.png').replace('images','images-gt')).convert('L') for path in paths]\n",
    "labels = [open(path.replace('.jpg', '-anno.png').replace('images','images-labels')) for path in paths]"
   ]
  },
  {
   "cell_type": "code",
   "execution_count": null,
   "metadata": {},
   "outputs": [],
   "source": [
    "idx = 7\n",
    "n, p = images[0].size\n",
    "W, H = n//4, p//4\n",
    "img = np.array(images[idx].resize((W,H))) / 255\n",
    "gt = np.array(groundtruths[idx].resize((W,H), resample=PIL.Image.NEAREST))\n",
    "label = np.array(labels[idx].resize((W,H), resample=PIL.Image.NEAREST))\n",
    "\n",
    "\n",
    "priors = (label==1, label==2)\n",
    "nbins = 30\n",
    "G, probs = image2graph(img, *priors, nbins=nbins, alpha=100, λ=0.7, sig=30)\n",
    "\n",
    "X = np.linspace(0, 1 + 1/(nbins+1), nbins+1)\n",
    "plt.title(\"Priors distribution\")\n",
    "plt.plot(X, probs[\"obj\"](X), label='PDF O')\n",
    "plt.plot(X, probs[\"bkg\"](X), label='PDF B')\n",
    "plt.legend()\n",
    "plt.show()"
   ]
  },
  {
   "cell_type": "code",
   "execution_count": null,
   "metadata": {},
   "outputs": [],
   "source": [
    "plt.imshow(gt)"
   ]
  },
  {
   "cell_type": "code",
   "execution_count": null,
   "metadata": {},
   "outputs": [],
   "source": [
    "np.histogram([[1,2],[3,2],[4,1]])"
   ]
  },
  {
   "cell_type": "code",
   "execution_count": null,
   "metadata": {},
   "outputs": [],
   "source": [
    "segment_plot(G, img, label, s=5)"
   ]
  },
  {
   "cell_type": "code",
   "execution_count": null,
   "metadata": {},
   "outputs": [],
   "source": [
    "segment_plot(G, img, label, s=5)"
   ]
  },
  {
   "cell_type": "code",
   "execution_count": 32,
   "metadata": {},
   "outputs": [],
   "source": [
    "paths = [path for path in glob(os.path.join(\"dataset\",'images',\"*.jpg\"))]\n",
    "images = [open(path) for path in paths]\n",
    "groundtruths = [open(path.replace('.jpg', '.png').replace('images','images-gt')).convert('L') for path in paths]\n",
    "labels = [open(path.replace('.jpg', '-anno.png').replace('images','images-labels')) for path in paths]"
   ]
  },
  {
   "cell_type": "code",
   "execution_count": 33,
   "metadata": {},
   "outputs": [
    {
     "data": {
      "text/plain": [
       "array([[0.94509804, 0.96078431, 0.94901961],\n",
       "       [0.83529412, 0.84313725, 0.78431373],\n",
       "       [0.91372549, 0.92156863, 0.89803922],\n",
       "       [0.52941176, 0.52156863, 0.48627451],\n",
       "       [0.34901961, 0.39215686, 0.4       ],\n",
       "       [0.45098039, 0.47843137, 0.45098039],\n",
       "       [0.31764706, 0.36078431, 0.36470588],\n",
       "       [0.27843137, 0.30588235, 0.31372549],\n",
       "       [0.2745098 , 0.32156863, 0.34509804],\n",
       "       [0.41176471, 0.43137255, 0.43529412],\n",
       "       [0.39607843, 0.41960784, 0.43921569],\n",
       "       [0.61568627, 0.67058824, 0.64313725],\n",
       "       [0.61568627, 0.67058824, 0.65098039]])"
      ]
     },
     "execution_count": 33,
     "metadata": {},
     "output_type": "execute_result"
    }
   ],
   "source": [
    "img[label==1]"
   ]
  },
  {
   "cell_type": "code",
   "execution_count": 34,
   "metadata": {},
   "outputs": [
    {
     "ename": "IndexError",
     "evalue": "too many indices for array: array is 1-dimensional, but 2 were indexed",
     "output_type": "error",
     "traceback": [
      "\u001b[1;31m---------------------------------------------------------------------------\u001b[0m",
      "\u001b[1;31mIndexError\u001b[0m                                Traceback (most recent call last)",
      "\u001b[1;32md:\\Projects\\Graph Cuts\\compi-graph-cut\\test.ipynb Cell 17'\u001b[0m in \u001b[0;36m<module>\u001b[1;34m\u001b[0m\n\u001b[0;32m      <a href='vscode-notebook-cell:/d%3A/Projects/Graph%20Cuts/compi-graph-cut/test.ipynb#ch0000006?line=8'>9</a>\u001b[0m priors \u001b[39m=\u001b[39m (label\u001b[39m==\u001b[39m\u001b[39m1\u001b[39m, label\u001b[39m==\u001b[39m\u001b[39m2\u001b[39m)\n\u001b[0;32m     <a href='vscode-notebook-cell:/d%3A/Projects/Graph%20Cuts/compi-graph-cut/test.ipynb#ch0000006?line=9'>10</a>\u001b[0m nbins \u001b[39m=\u001b[39m \u001b[39m30\u001b[39m\n\u001b[1;32m---> <a href='vscode-notebook-cell:/d%3A/Projects/Graph%20Cuts/compi-graph-cut/test.ipynb#ch0000006?line=10'>11</a>\u001b[0m G, probs \u001b[39m=\u001b[39m image2graph(img, \u001b[39m*\u001b[39;49mpriors, nbins\u001b[39m=\u001b[39;49mnbins, alpha\u001b[39m=\u001b[39;49m\u001b[39m100\u001b[39;49m, λ\u001b[39m=\u001b[39;49m\u001b[39m0.7\u001b[39;49m, sig\u001b[39m=\u001b[39;49m\u001b[39m30\u001b[39;49m)\n\u001b[0;32m     <a href='vscode-notebook-cell:/d%3A/Projects/Graph%20Cuts/compi-graph-cut/test.ipynb#ch0000006?line=12'>13</a>\u001b[0m X \u001b[39m=\u001b[39m np\u001b[39m.\u001b[39mlinspace(\u001b[39m0\u001b[39m, \u001b[39m1\u001b[39m \u001b[39m+\u001b[39m \u001b[39m1\u001b[39m\u001b[39m/\u001b[39m(nbins\u001b[39m+\u001b[39m\u001b[39m1\u001b[39m), nbins\u001b[39m+\u001b[39m\u001b[39m1\u001b[39m)\n\u001b[0;32m     <a href='vscode-notebook-cell:/d%3A/Projects/Graph%20Cuts/compi-graph-cut/test.ipynb#ch0000006?line=13'>14</a>\u001b[0m plt\u001b[39m.\u001b[39mtitle(\u001b[39m\"\u001b[39m\u001b[39mPriors distribution\u001b[39m\u001b[39m\"\u001b[39m)\n",
      "File \u001b[1;32md:\\Projects\\Graph Cuts\\compi-graph-cut\\Img2Graph.py:115\u001b[0m, in \u001b[0;36mimage2graph\u001b[1;34m(img, O, B, nbins, alpha, prior_as_index, **kwargs)\u001b[0m\n\u001b[0;32m    <a href='file:///d%3A/Projects/Graph%20Cuts/compi-graph-cut/Img2Graph.py?line=112'>113</a>\u001b[0m         probs \u001b[39m=\u001b[39m prior_probs_color(img[\u001b[39mtuple\u001b[39m(np\u001b[39m.\u001b[39marray(O)\u001b[39m.\u001b[39mT)], img[\u001b[39mtuple\u001b[39m(np\u001b[39m.\u001b[39marray(B)\u001b[39m.\u001b[39mT)], nbins, alpha)\n\u001b[0;32m    <a href='file:///d%3A/Projects/Graph%20Cuts/compi-graph-cut/Img2Graph.py?line=113'>114</a>\u001b[0m     \u001b[39melse\u001b[39;00m:\n\u001b[1;32m--> <a href='file:///d%3A/Projects/Graph%20Cuts/compi-graph-cut/Img2Graph.py?line=114'>115</a>\u001b[0m         probs \u001b[39m=\u001b[39m prior_probs_color(img[O]\u001b[39m.\u001b[39;49mflatten(), img[B]\u001b[39m.\u001b[39;49mflatten(), nbins, alpha)\n\u001b[0;32m    <a href='file:///d%3A/Projects/Graph%20Cuts/compi-graph-cut/Img2Graph.py?line=116'>117</a>\u001b[0m \u001b[39m# Initialize graph without S and T nodes\u001b[39;00m\n\u001b[0;32m    <a href='file:///d%3A/Projects/Graph%20Cuts/compi-graph-cut/Img2Graph.py?line=117'>118</a>\u001b[0m G \u001b[39m=\u001b[39m nx\u001b[39m.\u001b[39mGraph()\n",
      "File \u001b[1;32md:\\Projects\\Graph Cuts\\compi-graph-cut\\Img2Graph.py:48\u001b[0m, in \u001b[0;36mprior_probs_color\u001b[1;34m(O_vals, B_vals, nbins, alpha)\u001b[0m\n\u001b[0;32m     <a href='file:///d%3A/Projects/Graph%20Cuts/compi-graph-cut/Img2Graph.py?line=45'>46</a>\u001b[0m proba_O, proba_B \u001b[39m=\u001b[39m [], []\n\u001b[0;32m     <a href='file:///d%3A/Projects/Graph%20Cuts/compi-graph-cut/Img2Graph.py?line=46'>47</a>\u001b[0m \u001b[39mfor\u001b[39;00m i \u001b[39min\u001b[39;00m \u001b[39mrange\u001b[39m(\u001b[39m3\u001b[39m):\n\u001b[1;32m---> <a href='file:///d%3A/Projects/Graph%20Cuts/compi-graph-cut/Img2Graph.py?line=47'>48</a>\u001b[0m     data_O \u001b[39m=\u001b[39m np\u001b[39m.\u001b[39mhstack((np\u001b[39m.\u001b[39mrepeat(O_vals[:,i],alpha), np\u001b[39m.\u001b[39mlinspace(\u001b[39m0\u001b[39m,\u001b[39m1\u001b[39m\u001b[39m+\u001b[39m\u001b[39m1\u001b[39m\u001b[39m/\u001b[39mnbins, nbins)))\n\u001b[0;32m     <a href='file:///d%3A/Projects/Graph%20Cuts/compi-graph-cut/Img2Graph.py?line=48'>49</a>\u001b[0m     data_B \u001b[39m=\u001b[39m np\u001b[39m.\u001b[39mhstack((np\u001b[39m.\u001b[39mrepeat(B_vals[:,i],alpha), np\u001b[39m.\u001b[39mlinspace(\u001b[39m0\u001b[39m,\u001b[39m1\u001b[39m\u001b[39m+\u001b[39m\u001b[39m1\u001b[39m\u001b[39m/\u001b[39mnbins, nbins)))\n\u001b[0;32m     <a href='file:///d%3A/Projects/Graph%20Cuts/compi-graph-cut/Img2Graph.py?line=50'>51</a>\u001b[0m     hist_O \u001b[39m=\u001b[39m np\u001b[39m.\u001b[39mhistogram(data_O, bins\u001b[39m=\u001b[39mnbins, density\u001b[39m=\u001b[39m\u001b[39mTrue\u001b[39;00m)\n",
      "\u001b[1;31mIndexError\u001b[0m: too many indices for array: array is 1-dimensional, but 2 were indexed"
     ]
    }
   ],
   "source": [
    "idx = 7\n",
    "n, p = images[0].size\n",
    "W, H = n//4, p//4\n",
    "img = np.array(images[idx].resize((W,H))) / 255\n",
    "gt = np.array(groundtruths[idx].resize((W,H), resample=PIL.Image.NEAREST))\n",
    "label = np.array(labels[idx].resize((W,H), resample=PIL.Image.NEAREST))\n",
    "\n",
    "\n",
    "priors = (label==1, label==2)\n",
    "nbins = 30\n",
    "G, probs = image2graph(img, *priors, nbins=nbins, alpha=100, λ=0.7, sig=30)\n",
    "\n",
    "X = np.linspace(0, 1 + 1/(nbins+1), nbins+1)\n",
    "plt.title(\"Priors distribution\")\n",
    "plt.plot(X, probs[\"obj\"](X), label='PDF O')\n",
    "plt.plot(X, probs[\"bkg\"](X), label='PDF B')\n",
    "plt.legend()\n",
    "plt.show()"
   ]
  },
  {
   "cell_type": "code",
   "execution_count": null,
   "metadata": {},
   "outputs": [],
   "source": [
    "plt.imshow(gt)"
   ]
  },
  {
   "cell_type": "code",
   "execution_count": null,
   "metadata": {},
   "outputs": [],
   "source": [
    "np.histogram([[1,2],[3,2],[4,1]])"
   ]
  },
  {
   "cell_type": "code",
   "execution_count": null,
   "metadata": {},
   "outputs": [],
   "source": [
    "segment_plot(G, img, label, s=5)"
   ]
  },
  {
   "cell_type": "code",
   "execution_count": null,
   "metadata": {},
   "outputs": [],
   "source": [
    "segment_plot(G, img, label, s=5)"
   ]
  }
 ],
 "metadata": {
  "interpreter": {
   "hash": "c9297b02fdaf5c0ad459872b73c0cfaecfa59fcd1d874f3d76bff3514e920718"
  },
  "kernelspec": {
   "display_name": "Python 3.8.0 ('maps')",
   "language": "python",
   "name": "python3"
  },
  "language_info": {
   "codemirror_mode": {
    "name": "ipython",
    "version": 3
   },
   "file_extension": ".py",
   "mimetype": "text/x-python",
   "name": "python",
   "nbconvert_exporter": "python",
   "pygments_lexer": "ipython3",
   "version": "3.8.0"
  },
  "orig_nbformat": 4
 },
 "nbformat": 4,
 "nbformat_minor": 2
}
